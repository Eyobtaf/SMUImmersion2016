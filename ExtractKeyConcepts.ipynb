{
 "cells": [
  {
   "cell_type": "markdown",
   "metadata": {},
   "source": [
    "### Load Data  \n",
    "\n",
    "Load all the negative review comments for property # 218524"
   ]
  },
  {
   "cell_type": "code",
   "execution_count": 1,
   "metadata": {
    "collapsed": true
   },
   "outputs": [],
   "source": [
    "fileName=\"/Users/raghuramsrinivas/Documents/education/Stats/Backup-Pyscripts/Immersion/badReviews_218524.csv\""
   ]
  },
  {
   "cell_type": "code",
   "execution_count": 2,
   "metadata": {
    "collapsed": false
   },
   "outputs": [],
   "source": [
    "import pandas as pd\n",
    "df=pd.read_csv(fileName)\n",
    "df[\"ReviewKey\"]=df[\"Unnamed: 0\"]"
   ]
  },
  {
   "cell_type": "code",
   "execution_count": 3,
   "metadata": {
    "collapsed": false
   },
   "outputs": [
    {
     "data": {
      "text/html": [
       "<div>\n",
       "<table border=\"1\" class=\"dataframe\">\n",
       "  <thead>\n",
       "    <tr style=\"text-align: right;\">\n",
       "      <th></th>\n",
       "      <th>Unnamed: 0</th>\n",
       "      <th>Author</th>\n",
       "      <th>BusinessService</th>\n",
       "      <th>CheckIn</th>\n",
       "      <th>Cleanliness</th>\n",
       "      <th>Content</th>\n",
       "      <th>File</th>\n",
       "      <th>Location</th>\n",
       "      <th>Overall</th>\n",
       "      <th>Rooms</th>\n",
       "      <th>Service</th>\n",
       "      <th>Value</th>\n",
       "      <th>Overall1</th>\n",
       "      <th>ReviewKey</th>\n",
       "    </tr>\n",
       "  </thead>\n",
       "  <tbody>\n",
       "    <tr>\n",
       "      <th>0</th>\n",
       "      <td>2</td>\n",
       "      <td>cleanwatergirl</td>\n",
       "      <td>-1</td>\n",
       "      <td>5</td>\n",
       "      <td>3</td>\n",
       "      <td>too sick to enjoy The ride to and form the air...</td>\n",
       "      <td>/Users/raghuramsrinivas/Downloads/Review_Texts...</td>\n",
       "      <td>2</td>\n",
       "      <td>2</td>\n",
       "      <td>2</td>\n",
       "      <td>2</td>\n",
       "      <td>1</td>\n",
       "      <td>2</td>\n",
       "      <td>2</td>\n",
       "    </tr>\n",
       "    <tr>\n",
       "      <th>1</th>\n",
       "      <td>5</td>\n",
       "      <td>CR_ONT</td>\n",
       "      <td>3</td>\n",
       "      <td>1</td>\n",
       "      <td>5</td>\n",
       "      <td>Beautiful resort but be careful of a few thing...</td>\n",
       "      <td>/Users/raghuramsrinivas/Downloads/Review_Texts...</td>\n",
       "      <td>5</td>\n",
       "      <td>3</td>\n",
       "      <td>5</td>\n",
       "      <td>4</td>\n",
       "      <td>4</td>\n",
       "      <td>3</td>\n",
       "      <td>5</td>\n",
       "    </tr>\n",
       "    <tr>\n",
       "      <th>2</th>\n",
       "      <td>7</td>\n",
       "      <td>marksdallastx</td>\n",
       "      <td>2</td>\n",
       "      <td>1</td>\n",
       "      <td>2</td>\n",
       "      <td>Definitely not a 5 star resort I'm dumbfounded...</td>\n",
       "      <td>/Users/raghuramsrinivas/Downloads/Review_Texts...</td>\n",
       "      <td>4</td>\n",
       "      <td>2</td>\n",
       "      <td>1</td>\n",
       "      <td>2</td>\n",
       "      <td>1</td>\n",
       "      <td>2</td>\n",
       "      <td>7</td>\n",
       "    </tr>\n",
       "  </tbody>\n",
       "</table>\n",
       "</div>"
      ],
      "text/plain": [
       "   Unnamed: 0          Author  BusinessService  CheckIn  Cleanliness  \\\n",
       "0           2  cleanwatergirl               -1        5            3   \n",
       "1           5          CR_ONT                3        1            5   \n",
       "2           7   marksdallastx                2        1            2   \n",
       "\n",
       "                                             Content  \\\n",
       "0  too sick to enjoy The ride to and form the air...   \n",
       "1  Beautiful resort but be careful of a few thing...   \n",
       "2  Definitely not a 5 star resort I'm dumbfounded...   \n",
       "\n",
       "                                                File  Location  Overall  \\\n",
       "0  /Users/raghuramsrinivas/Downloads/Review_Texts...         2        2   \n",
       "1  /Users/raghuramsrinivas/Downloads/Review_Texts...         5        3   \n",
       "2  /Users/raghuramsrinivas/Downloads/Review_Texts...         4        2   \n",
       "\n",
       "   Rooms  Service  Value  Overall1  ReviewKey  \n",
       "0      2        2      1         2          2  \n",
       "1      5        4      4         3          5  \n",
       "2      1        2      1         2          7  "
      ]
     },
     "execution_count": 3,
     "metadata": {},
     "output_type": "execute_result"
    }
   ],
   "source": [
    "df.ReviewKey.astype(\"int64\",inplace=True)\n",
    "df.head(3)"
   ]
  },
  {
   "cell_type": "markdown",
   "metadata": {
    "collapsed": false
   },
   "source": [
    "### Initialize Watson Developer Cloud API objects"
   ]
  },
  {
   "cell_type": "code",
   "execution_count": 4,
   "metadata": {
    "collapsed": true
   },
   "outputs": [],
   "source": [
    "import json\n",
    "from os.path import join, dirname\n",
    "from watson_developer_cloud import AlchemyLanguageV1"
   ]
  },
  {
   "cell_type": "code",
   "execution_count": 5,
   "metadata": {
    "collapsed": true
   },
   "outputs": [],
   "source": [
    "from watson_developer_cloud import ConceptInsightsV2\n",
    "concept_insights = ConceptInsightsV2(username='c70d04a9-779a-4862-b36a-0289912e173a',password='FTQModH127el')"
   ]
  },
  {
   "cell_type": "code",
   "execution_count": 6,
   "metadata": {
    "collapsed": false
   },
   "outputs": [
    {
     "name": "stdout",
     "output_type": "stream",
     "text": [
      "How Watson answers a question and for not so simple steps.A first person mentioned by name in the man in the iron mask is this hero of previous book by the same author.This is a typical jeopardy clue presented in the tricky Jeopardy game show format that can be pretty difficult for a person to understand much less thecomputer.A computer understands the text using the numbers ones and zeros.Watson can see and hear so audio and visual questions are within limits.\n"
     ]
    }
   ],
   "source": [
    "strSampleText=\"How Watson answers a question and for not so simple steps.A first person mentioned by name in the man in the iron mask is this hero of previous book by the same author.This is a typical jeopardy clue presented in the tricky Jeopardy game show format that can be pretty difficult for a person to understand much less thecomputer.A computer understands the text using the numbers ones and zeros.Watson can see and hear so audio and visual questions are within limits.\"\n",
    "\n",
    "print(strSampleText)"
   ]
  },
  {
   "cell_type": "code",
   "execution_count": 7,
   "metadata": {
    "collapsed": false
   },
   "outputs": [
    {
     "data": {
      "text/plain": [
       "{u'annotations': [{u'concept': {u'id': u'/graphs/wikipedia/en-20120601/concepts/Watson_(computer)',\n",
       "    u'label': u'Watson (computer)'},\n",
       "   u'score': 0.7763709,\n",
       "   u'text_index': [4, 10]},\n",
       "  {u'concept': {u'id': u'/graphs/wikipedia/en-20120601/concepts/Question',\n",
       "    u'label': u'Question'},\n",
       "   u'score': 0.76485574,\n",
       "   u'text_index': [437, 446]},\n",
       "  {u'concept': {u'id': u'/graphs/wikipedia/en-20120601/concepts/Visual_perception',\n",
       "    u'label': u'Visual perception'},\n",
       "   u'score': 0.687569,\n",
       "   u'text_index': [430, 436]},\n",
       "  {u'concept': {u'id': u'/graphs/wikipedia/en-20120601/concepts/Computer',\n",
       "    u'label': u'Computer'},\n",
       "   u'score': 0.6854849,\n",
       "   u'text_index': [330, 338]},\n",
       "  {u'concept': {u'id': u'/graphs/wikipedia/en-20120601/concepts/Man_in_the_Iron_Mask',\n",
       "    u'label': u'Man in the Iron Mask'},\n",
       "   u'score': 0.68048066,\n",
       "   u'text_index': [98, 118]},\n",
       "  {u'concept': {u'id': u'/graphs/wikipedia/en-20120601/concepts/Hero',\n",
       "    u'label': u'Hero'},\n",
       "   u'score': 0.66466016,\n",
       "   u'text_index': [127, 131]},\n",
       "  {u'concept': {u'id': u'/graphs/wikipedia/en-20120601/concepts/Book',\n",
       "    u'label': u'Book'},\n",
       "   u'score': 0.6416568,\n",
       "   u'text_index': [144, 148]},\n",
       "  {u'concept': {u'id': u'/graphs/wikipedia/en-20120601/concepts/Game_show',\n",
       "    u'label': u'Game show'},\n",
       "   u'score': 0.5568642,\n",
       "   u'text_index': [233, 242]}]}"
      ]
     },
     "execution_count": 7,
     "metadata": {},
     "output_type": "execute_result"
    }
   ],
   "source": [
    "concept_insights.annotate_text(strSampleText,graph='/graphs/wikipedia/en-latest')"
   ]
  },
  {
   "cell_type": "code",
   "execution_count": null,
   "metadata": {
    "collapsed": true
   },
   "outputs": [],
   "source": []
  },
  {
   "cell_type": "code",
   "execution_count": null,
   "metadata": {
    "collapsed": true
   },
   "outputs": [],
   "source": []
  },
  {
   "cell_type": "markdown",
   "metadata": {},
   "source": [
    "### Annotate all negative review comments using ConceptsInsights.annotate_text()"
   ]
  },
  {
   "cell_type": "code",
   "execution_count": 8,
   "metadata": {
    "collapsed": true
   },
   "outputs": [],
   "source": [
    "import sys  \n",
    "#reload(sys)  \n",
    "#sys.setdefaultencoding('utf8')"
   ]
  },
  {
   "cell_type": "code",
   "execution_count": null,
   "metadata": {
    "collapsed": false
   },
   "outputs": [],
   "source": [
    "## Warning : Takes a long time to run!\n",
    "concept_counts ={}\n",
    "label_counts={}\n",
    "i=0\n",
    "listConcepts = []\n",
    "for index,row in df.iterrows():\n",
    "    try:\n",
    "        \n",
    "        \n",
    "        strTextContent = row[\"Content\"]\n",
    "        strReviewKey=row[\"ReviewKey\"]\n",
    "        strTextContent=strTextContent.encode(\"utf8\")\n",
    "        docConcepts = concept_insights.annotate_text(strTextContent,graph='/graphs/wikipedia/en-latest')\n",
    "        \n",
    "        docConceptsArray =docConcepts[\"annotations\"]\n",
    "\n",
    "        for j in range(0,len(docConceptsArray)):\n",
    "            dfDict={}\n",
    "            dict1 = docConceptsArray[j]\n",
    "            dfDict[\"Concept\"] = dict1[\"concept\"][\"id\"]\n",
    "            dfDict[\"Label\"] = dict1[\"concept\"][\"label\"]\n",
    "            dfDict[\"Score\"]=dict1[\"score\"]\n",
    "            dfDict[\"ReviewKey\"]=strReviewKey\n",
    "            \n",
    "            listConcepts.append(dfDict)\n",
    "            i=i+1\n",
    "            #if(i==3):\n",
    "            #    break\n",
    "    except Exception , e:\n",
    "        print(\"Exception occured at \"+str(i))\n",
    "        print(e)\n",
    "    \n",
    "dfConcepts=pd.DataFrame(listConcepts)       \n",
    "dfConcepts.to_csv(\"ConceptExtraction_badReviews.csv\")        \n",
    "dfConceptsGrpBy = dfConcepts.groupby([dfConcepts.ReviewKey,dfConcepts.Label]).mean()\n",
    "dfConceptsGrpBy.to_csv(\"ConceptExtraction_badReviews_grouped.csv\")"
   ]
  },
  {
   "cell_type": "markdown",
   "metadata": {
    "collapsed": false
   },
   "source": [
    "### Analyze the top concepts mentioned in the negative review comments"
   ]
  },
  {
   "cell_type": "code",
   "execution_count": 17,
   "metadata": {
    "collapsed": false
   },
   "outputs": [],
   "source": [
    "dfConceptsExtractions = pd.read_csv(\"ConceptExtraction_badReviews_grouped.csv\")"
   ]
  },
  {
   "cell_type": "markdown",
   "metadata": {},
   "source": [
    "##### List all the concepts mentioned in each review comment"
   ]
  },
  {
   "cell_type": "code",
   "execution_count": 9,
   "metadata": {
    "collapsed": false
   },
   "outputs": [
    {
     "data": {
      "text/html": [
       "<div>\n",
       "<table border=\"1\" class=\"dataframe\">\n",
       "  <thead>\n",
       "    <tr style=\"text-align: right;\">\n",
       "      <th></th>\n",
       "      <th>ReviewKey</th>\n",
       "      <th>Label</th>\n",
       "      <th>Score</th>\n",
       "    </tr>\n",
       "  </thead>\n",
       "  <tbody>\n",
       "    <tr>\n",
       "      <th>0</th>\n",
       "      <td>2</td>\n",
       "      <td>Airport</td>\n",
       "      <td>0.261225</td>\n",
       "    </tr>\n",
       "    <tr>\n",
       "      <th>1</th>\n",
       "      <td>2</td>\n",
       "      <td>Diarrhea</td>\n",
       "      <td>0.573177</td>\n",
       "    </tr>\n",
       "    <tr>\n",
       "      <th>2</th>\n",
       "      <td>2</td>\n",
       "      <td>Dominican Republic</td>\n",
       "      <td>0.287575</td>\n",
       "    </tr>\n",
       "    <tr>\n",
       "      <th>3</th>\n",
       "      <td>2</td>\n",
       "      <td>Food</td>\n",
       "      <td>0.604185</td>\n",
       "    </tr>\n",
       "    <tr>\n",
       "      <th>4</th>\n",
       "      <td>2</td>\n",
       "      <td>Health</td>\n",
       "      <td>0.506297</td>\n",
       "    </tr>\n",
       "  </tbody>\n",
       "</table>\n",
       "</div>"
      ],
      "text/plain": [
       "   ReviewKey               Label     Score\n",
       "0          2             Airport  0.261225\n",
       "1          2            Diarrhea  0.573177\n",
       "2          2  Dominican Republic  0.287575\n",
       "3          2                Food  0.604185\n",
       "4          2              Health  0.506297"
      ]
     },
     "execution_count": 9,
     "metadata": {},
     "output_type": "execute_result"
    }
   ],
   "source": [
    "dfConceptsExtractions.head(5)"
   ]
  },
  {
   "cell_type": "markdown",
   "metadata": {},
   "source": [
    "##### Get the # of occurance of each concept label"
   ]
  },
  {
   "cell_type": "code",
   "execution_count": 18,
   "metadata": {
    "collapsed": true
   },
   "outputs": [],
   "source": [
    "dfConceptsLabelCounts = dfConceptsExtractions.groupby(dfConceptsExtractions.Label).count()\n",
    "dfConceptsLabelCounts.to_csv(\"dfConceptsLabelCounts.csv\")\n",
    "dfConceptsLabelCounts=pd.read_csv(\"dfConceptsLabelCounts.csv\")"
   ]
  },
  {
   "cell_type": "markdown",
   "metadata": {},
   "source": [
    "##### Extract the most frequently occuring concepts across all negative reviews"
   ]
  },
  {
   "cell_type": "code",
   "execution_count": 19,
   "metadata": {
    "collapsed": false
   },
   "outputs": [],
   "source": [
    "dfConceptsLabelCounts=dfConceptsLabelCounts[dfConceptsLabelCounts.Score>7]"
   ]
  },
  {
   "cell_type": "code",
   "execution_count": 20,
   "metadata": {
    "collapsed": false
   },
   "outputs": [
    {
     "data": {
      "text/html": [
       "<iframe id=\"igraph\" scrolling=\"no\" style=\"border:none;\" seamless=\"seamless\" src=\"https://plot.ly/~rags_555/134.embed\" height=\"525px\" width=\"100%\"></iframe>"
      ],
      "text/plain": [
       "<plotly.tools.PlotlyDisplay object>"
      ]
     },
     "execution_count": 20,
     "metadata": {},
     "output_type": "execute_result"
    }
   ],
   "source": [
    "import plotly.plotly as py\n",
    "import plotly.graph_objs as go\n",
    "\n",
    "py.sign_in('rags_555', 'lgf41szz6a')\n",
    "trace0 = go.Bar(\n",
    "    x=dfConceptsLabelCounts.Label,\n",
    "    y=dfConceptsLabelCounts.Score,\n",
    "    opacity=0.6\n",
    ")\n",
    "\n",
    "data = [trace0]\n",
    "layout = go.Layout(\n",
    "    title='Concepts Counts',\n",
    ")\n",
    "\n",
    "fig = go.Figure(data=data, layout=layout)\n",
    "py.iplot(fig, filename='ConceptsCounts')"
   ]
  },
  {
   "cell_type": "code",
   "execution_count": 21,
   "metadata": {
    "collapsed": false
   },
   "outputs": [],
   "source": [
    "def getRelatedText(strConcept):\n",
    "    relatedReviewKeys = dfConceptsExtractions[dfConceptsExtractions.Label==strConcept]\n",
    "    listReviewKeys = relatedReviewKeys.ReviewKey.unique()\n",
    "    dfFilteredReview = df[df.ReviewKey.isin(listReviewKeys)]\n",
    "    i =0\n",
    "    for index,row in dfFilteredReview.iterrows():\n",
    "        print(row[\"Content\"])\n",
    "        print(\"++++++++++++++++++++++++++++++++++++++++++++++++++++++++++++++++++++++++++++++++++++++++++++++++++++++\\n\\n\")\n",
    "        if (i==5):\n",
    "            break\n",
    "        i=i+1"
   ]
  },
  {
   "cell_type": "code",
   "execution_count": 25,
   "metadata": {
    "collapsed": false
   },
   "outputs": [
    {
     "name": "stdout",
     "output_type": "stream",
     "text": [
      "too sick to enjoy The ride to and form the airport is not good. Very bumpy road and you can really see the poor living conditions. When you get to the resort it is like another world. we were told not to drink the tap or shower water- keep your mouth shut in the shower etc. but we have since heard that not all properties in punta cana have a water problem. In some resorts they have a huge purification system and the tap water is safe. Both my husband and I were sick with diarrhea while we were there and put it down to the unclean water used to prepare food. We will not go on any more holidays where we have to worry about our health. Each night at about 10PM when we were settling down to sleep the music started up and we like fresh air but we had to close our patio doors to mute the sound. We really wanted a quieter resort. It was disappointing. It was partially our fault for not doing our research properly. Some people did not hear the bands play at night but we couldnt change our swim up room for a quieter one. We will not be returning to Dominican Republic.\n",
      "++++++++++++++++++++++++++++++++++++++++++++++++++++++++++++++++++++++++++++++++++++++++++++++++++++++\n",
      "\n",
      "\n",
      "Definitely not a 5 star resort I'm dumbfounded that this hotel gets good reviews and is so highly rated. It's decidedly a 3 star property, not 5 stars as indicated. The rooms are very dated and run down, old crappy beds and pillows, an old TV and overall poorly maintained. The whole property is pretty run down and old-looking. The food is subpar, not one meal I had would be called great. The service is uneven and the staff is poorly trained and uninformed. Many do not comprehend English. The beach is great, it's the only redeeming factor. However the resort is a 1-hour taxi trip from the airport.\n",
      "++++++++++++++++++++++++++++++++++++++++++++++++++++++++++++++++++++++++++++++++++++++++++++++++++++++\n",
      "\n",
      "\n",
      "They do not honor your reservations! For starters, Liberty Travel dropped the ball, failed to tell us that if we flew in to Santa Domingo Airport we would be facing a 4 -5 hour HORRIBLE ride over unpaved roads, since it was not the closest airport. The airport that is closest to Excellence is the Punta Cana Airport! We had to spend big $ to switch airports and airlines for our departure. Next, because we arrived so late, thanks to the long ride from the wrong airport, we were told that the room we paid for, which was partial oceanview, could not be honored, as they only had a courtyard/palm tree view available. Depressed and discouraged, we sucked it up until the next day, when they moved us to another courtyard/palm-tree room! As a compensation for this 5 day disaster, we were offered and accepted a dinner at the beach, even though all meals were paid for and inclusive. They actually told Liberty Travel that they felt that this was adequate compensation! In addition, the air conditioning in both rooms was not adequate, and sleeping was difficult. The first room had plumbing problems. When the toilet did not flush properly, and began to overflow, we called the plumber at 3 am. He kept us up for about an hour, working inside and outside the room. When we never heard from him again, we called the front desk, and told them not to send him back in, and that we would also deal with that problem on our own. Personally, I would NEVER go back to the Dominican Republic if I wanted an excellent vacation. It's still way too 3rd world, and has a lot of catching up to do. Don't try to use the river pool. Only a couple of brave souls entered in to it, since it was freezing. Spend a few more dollars, and go to Aruba.\n",
      "++++++++++++++++++++++++++++++++++++++++++++++++++++++++++++++++++++++++++++++++++++++++++++++++++++++\n",
      "\n",
      "\n",
      "Bueno not Excellente After coming off an awesome honeymoon at Excellence Riviera Maya last year, my husband  I decided to try Excellence Punta Cana this year. We kinda wished we just went back to Mexico. Let me just start off by saying we are NOT picky New Yorkers by any means. Although the resort is beautiful and I being a beach person, thought the beach was more tropical and gorgeous here, the standards of the hotel and service were much lower. Upon arrival, our room was in building 14 (the very left end and last building of the resort) very far walk from anything. Not that much of a bother to us though. We had a wonderful view of the ocean from that building. Although these rooms were smaller than the ones in Mexico.The problem with the room was COCKROACHES. We killed 4 the 1st day. We insisted on being moved to another building but couldn't be accommodated until the second day. They sent up a can of raid to spray everywhere.The next morning I woke up with bug bites all over my legs. I know this is a tropical country and I was prepared with bug spray and all, but I still couldn't get over the amount of bites I had in the course of a week. I'm home 4 days and still have marks. Although they didn't seem to like my husband. So maybe it's something with the women?!After moving to our second room in building 6, more directly in the middle of the resort, but with less of an ocean view (at this point we really didn't care) I had asked the front desk on 3 occasions to bring us a coffee maker and ironing board. We never received either all week. The restaurants are the same as the other resort except that Spice in Punta Cana did not have a hibachi grill room set up like they had in Mexico. Not a big deal, just wondered why this was. The food menus were pretty much the same, not much to complain about or rave about. Everything seemed just ok. We were disappointed that the casino was closed. The casino they offer to take you to at Sirinis (next hotel over) had 3 tables and was very boring. We looked forward to meeting people and playing a daily game of Texas Hold Em like we had last year, though there was no such thing on the entertainment slip here :(The entertainment crew will to get you into activities and we did do a few that were fun - I must complain about the music they play everyday on the beach drove us nuts! It's the same tracks over and over and over. I for one like to listen to the waves and relax. A little music for a little while is ok, but by the second or third day we started to realize this was all they had - OMG Take an IPOD! Vendors come on site 3 nights a week and all they do is hassle you when you walk by. What a pain in the [--]. We had to try to walk around the beach to get to our room and avoid them or jump in the pool and swim away! They put a necklace on you and ask you what you like, what you want to pay for it and wrap it up and let you take it before you pay them. I mean its good in a way if you are looking to bargain and buy stuff but there is duty free at the airport going home. Same $hit. They are just really annoying. We bought a few things form one of the vendors on the beach. So yeah be careful when you take a walk to the left or to the right. They come right down to the water and try and get your business.I hate having to write so much in a review that sounds so negative, but I want to be honest. We pay enough for a vacation and I was open to reading previous opinions. My husband got severely ill halfway through the trip with high fever, major stomach issues and cramping. I've never seen him so sick before. Cost him 2 days of our trip. He believes it was from brushing your teeth in the sink from the tap water. That or maybe bad ice. They tell you the ice is safe, but you never know. I started feeling sick the morning we were leaving and got hit with the same illness our first night home. Just started feeling better today. Lasted 3 days for me. I just thank god I was home already! It really was awful and painful.I'm not even going to talk about the ride to and from the airport. I was already prepared from reading about it on trip advisor - and seriously I thought New York potholes were bad after a harsh winter - you have no idea! Sad to see how poor and dirty the country is too because it really is beautiful.To sum up, the beach was beautiful, the grounds were beautiful, the gym was modern, the entertainment was fun, the birds hanging around were cool to play and take pics with (warning stay away from the big white ducks) One shot out of no where and bit me hard on my leg. I still have a bruise from that little effer!If you came to this resort 1st you would think it was excellent, but if you went to Mexico already - your standards and expectations will be too high for this resort. We'll be going back to Mexico! Sorry Punta Cana.\n",
      "++++++++++++++++++++++++++++++++++++++++++++++++++++++++++++++++++++++++++++++++++++++++++++++++++++++\n",
      "\n",
      "\n",
      "Not as luxury as they advertise As a travel agent 8 other people as well as my husband and myself just spent a week at this so called 5 star luxury hotel, the pool areas are very nice BUT the rooms are dated, one couple had to move 3 times, power would go out in room and we had to play with the breakers to get power back up, hot tub in room did not work, bed spreads and towels felt old, air conditioning was always going off and it was VERY hot. Resturants, yes there is 7 to choose from one is closed every night.The best was Spice, Asian food, one couple ate here 5 out of 7 nights. Barcelona was terrible, the Grill an outside resturant was ok but you will fight the flies.Any kind of beef anyone ordered was either over cooked or fatty. A fly in the pasta one night was a turn off! The lunch buffet was good. 9 out of the 10 of us was sick, as well as other people I spoke to at the resort.The shows were great and the bars had premium liquors as advertised.This was my first trip to Punta Cana, travel companies tell you it is a 30 min. drive from the airport it is more like an hour and a half. Punta Cana is dirty with garbage being tossed everywhere.I will never return to Punta Cana and I will make sure my clients know also.\n",
      "++++++++++++++++++++++++++++++++++++++++++++++++++++++++++++++++++++++++++++++++++++++++++++++++++++++\n",
      "\n",
      "\n",
      "Call it Fair not Excellence We went to this resort during the week of October 11, 2008. We had reserved a Prestige limo service prior to our departure to bring us to the resort. Although expensive, the ride was worth it as it takes approximately 75 minutes to get to the resort from the airport. The ride can be quite bumpy at times as there are a lot of potholes on part of the road. Once we got to the resort, we were greeted with the cold towel and some bubbly wine and then directed to the excellence club. We were then brought to our room which was a junior suite swim up room. The room is spacious and provides good living space although the bathroom is fairly small and the shower space is quite limited.Overall the resort is well maintained and clean. The beach is huge and spectacular with lots of room to sit and enjoy the weather. As mentioned in other reviews, the sea is quite rough.The pool area has also a lot of room and is quite well maintained by the staff. The only bad issue is that people go out early in the morning and reserve chairs and floating mattresses preventing people to have access to those during the course of the day.Food wise, the menu is at best average. The only restaurant we did not eat at is the lobster house. We tried all the other ones and I would rate the food being fair at best. As far as I am concerned, I tried the steak in two places and both times, it was served almost raw and very bad tasting. The other plates were sometimes bland and tasted nothing. On the other hand, service was appropriate and charming.On the entertainment side, although the shows cannot be compared to Vegas, we thought they were quite good and quite entertaining. We mostly enjoyed the Jackson imitation and the circus. During the day, although we just witnessed it as we were at the other side of the resort, it seemed as well that staff were entertaining the guests in quite a dligent fashion.We think the excellence club was a good choice. Rather than going to the restaurants at lunch, we went to the club to pick up some pasta and cold meat and eat in our room or on the balcony. We though it was better than to get dressed and go out.The excellence club also serves a continental breakfast with a limited choice of hot food. Furthermore, the excellence club also provides you with a concierge service to book activities and to seek information.Overall, our experience was good except for the food. Mosquitoes were also a problem mostly at night and the were quite ferocious. Temperature was excellent and other than the first day, rain mostly happened at night. Tiles are rather slippery when wet so you have to be careful. Quite a pleasing experience but we would favor a buffet style dinner at one of the restaurants.Service from the staff is excellent overall. Tippng when you get superior service is well appreciated. We had to request the maid at various occasion to supply us with towels and washcloths.\n",
      "++++++++++++++++++++++++++++++++++++++++++++++++++++++++++++++++++++++++++++++++++++++++++++++++++++++\n",
      "\n",
      "\n"
     ]
    }
   ],
   "source": [
    "getRelatedText(\"Airport\")\n",
    "\n"
   ]
  },
  {
   "cell_type": "code",
   "execution_count": 26,
   "metadata": {
    "collapsed": false
   },
   "outputs": [
    {
     "name": "stdout",
     "output_type": "stream",
     "text": [
      "Facilities need work!!! We visited Excellence for 5 nights in December. Our first room, #1112, had a safe that didn't work and so-so air conditioning. When we went to the front desk to complain, we were told to go to the room and someone would be there within 15 minutes. 45 minutes later, the safe guy showed up, but nobody for the A/C. The safe guy couldn't fix it. When he left, the electricity went out! It went out a second time before we finally went to the front desk to change rooms. We had dinner that night in the Lobster House. Don't waste your time on this one...the lobster tails had about 2 bites of food included. While we were in there, the electricity went out again!Room 3002 served us pretty well, until night #3 when my partner got up to go to the bathroom and stepped into an inch of water. A hose had broken on the back of the toilet and flooded our room. It would've been ok, but when we went to the front desk we were told that we needed to wait until noon to see if perhaps they could move us to another room. The front desk clerks weren't empowered to just move us. My partner was infuriated that they wanted us to wait 4 hours for a new room . Finally, Matias at the front desk finally arranged to have us moved to another upgraded room - 3109. We walked in and saw the leak coming from the ceiling and nearly flipped. We finally got into #3110, which was a gorgeous suite with a beautiful view. On the positive side, the food at the other restaurants was very good. I particularly liked the French restaurant, while my partner liked the Asian restaurant. The breakfast buffet was like nothing I'd ever seen before - LOTS of choices. The ocean was WAY too rough to enjoy, particularly if you're not a strong swimmer. Much of the beach was black flagged the entire time we were there, so if you're a big ocean fan, I don't recommend this resort. My favorite part, by far, though, were the beds next to the pools and ocean. They were AMAZING!!!! I guess you could particularly say so since the beds in the rooms were hard as rocks. All in all, a good trip - highly recommend the zip line tour. It was worth every penny!\n",
      "++++++++++++++++++++++++++++++++++++++++++++++++++++++++++++++++++++++++++++++++++++++++++++++++++++++\n",
      "\n",
      "\n",
      "They do not honor your reservations! For starters, Liberty Travel dropped the ball, failed to tell us that if we flew in to Santa Domingo Airport we would be facing a 4 -5 hour HORRIBLE ride over unpaved roads, since it was not the closest airport. The airport that is closest to Excellence is the Punta Cana Airport! We had to spend big $ to switch airports and airlines for our departure. Next, because we arrived so late, thanks to the long ride from the wrong airport, we were told that the room we paid for, which was partial oceanview, could not be honored, as they only had a courtyard/palm tree view available. Depressed and discouraged, we sucked it up until the next day, when they moved us to another courtyard/palm-tree room! As a compensation for this 5 day disaster, we were offered and accepted a dinner at the beach, even though all meals were paid for and inclusive. They actually told Liberty Travel that they felt that this was adequate compensation! In addition, the air conditioning in both rooms was not adequate, and sleeping was difficult. The first room had plumbing problems. When the toilet did not flush properly, and began to overflow, we called the plumber at 3 am. He kept us up for about an hour, working inside and outside the room. When we never heard from him again, we called the front desk, and told them not to send him back in, and that we would also deal with that problem on our own. Personally, I would NEVER go back to the Dominican Republic if I wanted an excellent vacation. It's still way too 3rd world, and has a lot of catching up to do. Don't try to use the river pool. Only a couple of brave souls entered in to it, since it was freezing. Spend a few more dollars, and go to Aruba.\n",
      "++++++++++++++++++++++++++++++++++++++++++++++++++++++++++++++++++++++++++++++++++++++++++++++++++++++\n",
      "\n",
      "\n",
      "5-Star Views......2-Star Service I don't know where to start. The roaches in the room, the rude waiters, bartenders, front desk, the dead flies that stayed on our friends' mirror the entire stay, the average at best food (only one morning in the bathroom for longer than you would want), the 6,7,8 times I had to trip the breakers so my wife could use the hair dryer without our power going out, or the waste of money the excellence club turned out to be......I guess I'll start with the good.The beach was fabulous. The resort itself, d茅cor, pool, beach access was great.OK now for the rest of the trip.We booked the Excellence after changing from another resort we booked. We booked the other one a little quickly and then read some really bad reviews. So we were able to get out of that one and do a little more homework. We read about the Excellence from Trip Advisor and were really excited to go. Now, we've been to the Caribbean plenty and are low maintenance travelers. We'll check in and the hotel usually doesn't hear from us until we leave. One thing we usually like to do is get to the front desk and see about upgrading rooms. We were originally booked in a garden view room. Our first question at the front desk was, 鈥渄o you have any ocean view rooms available?鈥?He said, 鈥淵es, let me tell you about the excellence club.鈥?The excellence club rooms are identical to every other room in the resort (but with a plasma TV) and you have access to what鈥檚 basically another room where you can eat (the same food that鈥檚 served everywhere else), have premium drinks, and check out DVDs. He showed us where we would be staying. It was perfect, right in front of the pool over looking the ocean. Much to our dismay, we show up and still have a garden view. We call the front desk and ask where the ocean view room is and he commences to telling us how wonderful the excellence club is. So great, the hustle is on. After spending much of the first night arguing back and forth while he鈥檚 鈥渓ooking into it鈥?we finally gave up and waited until the morning. They finally moved us to a pool front room but I still don鈥檛 why we had to pay $400 extra per couple for a plasma TV and movies. The movies ended up being ok since one morning I stayed in bed with an upset stomach and my wife did the same thing a couple of nights.The resort was pretty much empty so we were a little confused why there were no ocean front rooms available. The restaurants were empty, the bars were empty. Where is everyone? I guess enjoying their ocean front rooms. Another strange phenomenon was with it being so empty, why were the waits so long? Waiting for service, waiting for a table, waiting for a drink, waiting at the front desk. The place was empty! There were a few nice waiters but most of them were rude, acted as if we were bothering them and sometimes just stood there and looked at us like we were stupid or something.I was amazed. I would recommend bringing an electrician with you as well because you鈥檒l need to get the power turned on if you want to dry your hair and run the air conditioner at the same time. Watch your step walking underneath the vent as well so you won鈥檛 slip in the leaking water from the vent. We had roaches in our bar, the couple that went with us noticed dead flies stuck to their mirror in clear sight and they stayed there the whole time we were there.The food? Average at best. The quality wasn鈥檛 very good. We spent the whole trip scared of it after we were in the bathroom the next morning. We called room service one night and they were out of pepperonis for the pizza. (That was more funny than annoying) And our friends went to the Italian restaurant and ate dinner. After, they ordered dessert: 鈥淲e鈥檙e out of tiramisu.鈥?OK, what do you have? 鈥淲e have one cheesecake鈥?OK, what kind? 鈥淣O, we have one piece of cheesecake left.鈥?Unbelievable. Ran out of dessert! Like I said before, we鈥檙e low maintenance travelers. We go to a cheaper place and have to wait or deal with annoyances, we don鈥檛 mind. You get what you pay for. But this is supposed to be a 4-5 star establishment and it seemed as though they didn鈥檛 know what the heck they were doing.It was just a comedy of issues from the time we showed up to the time we left. The whole trip was ruined and that鈥檚 a few thousand dollars we wish we had back. There are so many other options available down there, look elsewhere. I know we鈥檒l never return.\n",
      "++++++++++++++++++++++++++++++++++++++++++++++++++++++++++++++++++++++++++++++++++++++++++++++++++++++\n",
      "\n",
      "\n",
      "No Where Near Excellence This was a long awaited vacation with 2 other couples that we travel with every year, sometimes twice a year. Before booking the resort, I emailed the Excellence head office and asked about internet access, I am self-employed and all of my vacations are working vacations and I cannot book without the resort having internet. The head office emailed me back very quickly with a response explaining that the whole resort including all the rooms have wireless internet access..Bonus..I booked our trip that day!! We arrived at the resort very late on Saturday night, service was friendly but we were sent to find our own rooms, through some hallways that were very dark, one of the couples was in 11 block and 2 of us were in 14 block. We found our rooms with help from the pizza delivery guy. The room was very nice, not very cool, the air conditioning on the 3rd floor of the resorts doesn't seem to work very good! I setup my computer to make sure there was internet..no network to be found, I called to the front desk and explained, he said that he wasn't sure about the internet and that some of the rooms could not connect, I decided to go back to the front desk to request a room change and/or see what could be done, the person at the front desk did not speak the best english and he proceeded to try to find another room...this took about an hour of him playing on the computer...he said that he would have a bellhop take me to another room to see if the internet worked...it is not 12:30am and we finally found a room that is vacant and has internet, awesome...lets move the bags down! NO NO..I need to check with the front desk, the person at the front desk explaines that the room is VIP and it has a view....I explain that I do not care about a view...I just need the internet..the reception explains that I can have the room for an extra charge $, after arguing with the gentleman for 10 to 15 minutes and not getting a head, I asked for his manager...no managers on staff at night, it is now 1am and i am told that there will be a manager in the hotel at 8am, I agree to stay in my room until the morning.My husband and I are in the lobby for 8am...no manager no concierge, I am told they will be there for 9am, I return at 9am to speak with the concierge, I explained the situation and she asked that I give her an hour, at 10am I returned, she had sorted the problem out and was giving us the VIP room that we were in the night before, but we needed to wait until 12:30, she then put me intouch with a manager (Edward), he explained that he wanted to have the room clean and that he would have a bellhop at our current room for 12:30, I waited at the room and no bellhop, called to the front desk to request service and they asked me to wait until 1:30...I was extremely upset and angry, I said absolutely not, I need service not and asked that someone come immediately, the bellhop was sent. I finally got into my room and unpacked, the room was clean but things were missing, coffeemaker with no coffee pot, no hand soap, no face clothes and 1 hand towel, 1 robe, I called down to the front desk and asked for the items, I received the robe and hand towel...the next morning I called to ask again for the coffee pot and received room service instead, this is better then the coffee pot that is what I was told!! My husband and I were waiting in the main lobby for our friends where we were approached from a hotel employee who seem to be a manager, he ended up being the General Manager of the hotel, after explaining the problems, he asked that I come and see him if we had anymore...I told him about the coffee pot and there was 1 in my room within minutes.After meeting him, we had a few more discussions about his hotel..for 1 of the couples - no turn down service for 2 or 3 nights and no cleaning service at all for one day, and there AC did not work right for the whole week even after complaining a few times to concierge. For another couple - no face clothes and limited towels, there DVD player and jacuzzi tub did not work...they did fix the tub but it took a day or so! For my husband and I..the room was ok...not a 5 star hotel by any means, still never received hand soap, and our jacuzzi would not hold water. We also had a few creepy crawlers in our room!! Restaurants - the buffet is great for breakfast and lunch and the only place we enjoyed for dinner was the french restaurant. The grill was terrible, Bareclona was ok...the seafood was very fishy smelling and tasting. Toscana-food was good the service was aweful! The beef in most restaurants was not good, over cooked and very tuff!!Grounds - very very nice, the beach was good, but it was red flagged for the whole week. Bar Staff - EXCELLENT...Jenny who works in the theater section is awesome...very ver friendly!We requested 1 room for all of us on the last day because of the late check out, the manager said that he would speak to us on Friday (the day before leaving) to see if they had one available, he explained that there was a $20 per person per hour charge....I looked at him and said NO WAY...with all the problems you want to charge us more....forget it!!! he told me to come back and see him on Friday and he would see what he could do...we ended up getting one room for the 6 of us to stay in until we had to leave for the airport.In whole, the resort is nice but I do not believe it should be classified as a 5 star..maybe 3.5...they really need to work on the little things!!! I don't believe I will ever be back unless they make some serious chanages.\n",
      "++++++++++++++++++++++++++++++++++++++++++++++++++++++++++++++++++++++++++++++++++++++++++++++++++++++\n",
      "\n",
      "\n",
      "Enjoyed our trip, but we won't be back! Let me start off by saying they we were a group of 6 staying in building 4. This was my second trip to Punta Cana and 1st trip to EPC. My first trip in 2006 we stayed at the Gran Bahia Punta Cana and loved it! Overall we had a good vacation. While EPC is a beautiful resort with an amazing staff, I can say upfront that we will not return. They do try to do their best, but when you are charging top dollar more needs to be done to make sure things are ran smoothly and more consistent. Several of my same complaints were consistent with others that we met while we were there. My main point is this, while no vacation is perfect and problems can rise anywhere, when you charge what they charge, you definitely need to step up your game. I felt EPC dropped the ball too many times. While some issues may appear minor, that鈥檚 half the problem. It鈥檚 so minor that it鈥檚 aggravating that it鈥檚 not fixed. Again, we made the best of everything and I must say with that attitude we still had a fabulous time. I have no regrets for picking this place. But in all fairness I do feel the need to offer my honest opinion of how MY stay was. I too can now understand how two families can have two totally different vacation experiences at the same hotel/resort. The Good stuff:Staff is outstanding and they try their hardest to please everyone.The Spa was awesome and so was the staff. We did the couples ritual and it was AMAZING let me tell you!The drinks were very good and they offered pretty good quality liquor.The resort itself is very beautiful and clean. While the beach is a little rough, we still found it very relaxing to just lay out at the beach for the day.The Pools were very relaxing and refreshing (especially the cascading pool). Another of our favorite spots. The food overall was actually pretty good especially Spice and Toscana. The lobster house on the other hand is horrible. I鈥檓 not even sure you can call that lobster that they served. No wonder there was ever a wait to eat here. Pure hot mess!The mozzies were out and hungry, but we did fine with only 5 or 6 bites. They do a pretty good job spaying every evening.Not so good stuff:Everyone in my group got sick and still is 5 days later. Not sure what it was, but thank god we brought Imodium and pep to bismol with us, almost OD on it (lol). But again, we are all still suffering from stomach cramps, diarrhea, and nausea and its 5 days out. Giving it one more day before I head to my PCP. Air conditioning in the rooms was a MAJOR problem for me. They turn it off at night and this to me is completely unacceptable. I didn鈥檛 pay for partial air. I had my air on the snow flakes icon and it never rose above 80 degrees. Do you know how hot, sticky, and humid it gets in Punta Cana? Maintenance had to be called 3 times to my room, but it did no good since the problem is they turn it off at night (lol) . . Go figure. Personally speaking, I don鈥檛 go on vacation to sweat at the beach AND in my room too. So unless air not included in my rate (which it is) then please keep the air running throughout the night as well. Otherwise FULLY disclose this to guest prior to them booking, so they can choose if they would like to stay elsewhere. And the mini bar was no better, doesn鈥檛 keep anything cold. We didn鈥檛 bother using it since everything stayed so warm. We just asked the housekeeper to bring ice in the room at turn down and we soaked our beverages there.Our room was pretty dated. Not sure where the million dollar renovation was done at, but it wasn鈥檛 done to the rooms or at least my room 4008. I had TONS of rust at the base of the shower and IN the Jacuzzi. The shower head in my room broke as well on day 3. The maid just laid the head on the shower floor and we just made due with this for the rest of the week. While the room was musty at first, I brought my fbreeze plug in and that did the trick so no complaints on the odors. Housekeeping was very inconsistent. Only got face towels on the first day. Everyday after that, I had to call to request them. Not quite sure what the problem is, but another minor issue that needs to be fixed. We鈥檇 get several big towels just no face towels. I even went looking on the maids cart to avoid having to call again, but the carts had no face towels either.Anniversary Package: I emailed Elvira several months (as well as a week prior) to confirm ALL the details of this. It took 3 trips to concierge to finally get all our stuff two nights before we left. Guest the 3rd time requesting it was a charn. However, a slight bummer considering we were celebrating our anniversary the day we arrived. My thought would be: don鈥檛 offer an amenity if no one wants to follow through on it. In conclusion, your vacation is what you make of it. We made the best of it and therefore we had a nice time minus the hiccups. I just don鈥檛 see how you can charge $300+ a night and not provide guest with consistent basic amenities such as face towels, a decent cooling system, etc. I was just amazed at how these minor issues were even present at a resort like this. Totally unexpected! So after all the phone calls and trips to the front desk to get things fixed, we felt it was too much of a hassle when paying these prices. I鈥檇 rather deal with these problems (if I have to) by staying elsewhere, yet paying a 1/3 (if not 1/2) the price.\n",
      "++++++++++++++++++++++++++++++++++++++++++++++++++++++++++++++++++++++++++++++++++++++++++++++++++++++\n",
      "\n",
      "\n",
      "Not as luxury as they advertise As a travel agent 8 other people as well as my husband and myself just spent a week at this so called 5 star luxury hotel, the pool areas are very nice BUT the rooms are dated, one couple had to move 3 times, power would go out in room and we had to play with the breakers to get power back up, hot tub in room did not work, bed spreads and towels felt old, air conditioning was always going off and it was VERY hot. Resturants, yes there is 7 to choose from one is closed every night.The best was Spice, Asian food, one couple ate here 5 out of 7 nights. Barcelona was terrible, the Grill an outside resturant was ok but you will fight the flies.Any kind of beef anyone ordered was either over cooked or fatty. A fly in the pasta one night was a turn off! The lunch buffet was good. 9 out of the 10 of us was sick, as well as other people I spoke to at the resort.The shows were great and the bars had premium liquors as advertised.This was my first trip to Punta Cana, travel companies tell you it is a 30 min. drive from the airport it is more like an hour and a half. Punta Cana is dirty with garbage being tossed everywhere.I will never return to Punta Cana and I will make sure my clients know also.\n",
      "++++++++++++++++++++++++++++++++++++++++++++++++++++++++++++++++++++++++++++++++++++++++++++++++++++++\n",
      "\n",
      "\n"
     ]
    }
   ],
   "source": [
    "getRelatedText(\"Air conditioning\")"
   ]
  },
  {
   "cell_type": "code",
   "execution_count": 27,
   "metadata": {
    "collapsed": false
   },
   "outputs": [
    {
     "name": "stdout",
     "output_type": "stream",
     "text": [
      "NEVER EVER AGAIN, don't go!! Fist of all we are not naive, are extremely well travelled and are realistic in our expectations!!! We ignored most of the negative comments from trip advisor and took the common notion of people just like to complain (we didn't expect to be doing the same 14 days later!!) so we departed with our hard earned cash and booked this amazing holiday, a romantic get a way, adult only, with expectations of relaxation, good food, friendly service and a stress free holiday!! we understand that it's the Caribbean, that it's a tired resort and are the first to say that the grounds on which the resort is are breathe taking, but they shouldn't be graded as a 5 star hotel and charging you for the privileged.ACCOMMODATION:So we arrived at the hotel, late unfortunately we had had a delay in flight not the hotels or anyone's fault just one of them things!! but everything was going to be great for the next 14 days, well not quite, we had made sure when booking that we had a ocean view room, we wanted to see the ocean, but got there to be told that this was unavailable, HOW can a room be unavailable when it has been sold to you six months in advance, with guarantee, so we were UPGRADED, a master suite, or what was supposedly a master suite, okay it has an extra room but the room smelt of mould and was musty as previous reviews had said, it was so bad that we ended buying scented candles from the spa to keep the smell at bay, it was looking over the tennis courts and the cascade pool, now the room got no sunlight during the day, it looked like it hadn't been maintained at all, the door lock was broken and there was a gaping crack in the door, the coffee maker didn't work and it just didn't seem like 5 star accommodation to us but we tried to continue with our holiday and brush it off, who spends time in there room right!!! After complaining for six days we finally got the room we had paid for an ocean view and it was AMAZING bright, no smell, the view was lovely we ended up spending evenings out on the balcony watching the ocean listening to the waves, even the coffee maker worked!!! Now after a few days we got talking to other couples who had exactly the same experience as us, had booked an ocean view, or garden terrace with the guarantee of having that room and where told that it was unavailable, DON'T LET it happen to you, you pay extra supplements for these rooms you want what you pay for!!!FOOD: what can we say about the food!!! no way five star, they say there are 8 restaurants they are not really restaurants, they are limited in choice, don't get us wrong they do pizzas, hamburgers and other fast foodie stuff good, but if you are after a fantastic meal of delight in flavours don't go to the excellence. We on numerous occasions where served cold food, we aren't silly we stayed away from most of the buffet stuff its been sitting a long time and doesn't seem to be checked and changed as we have experienced in true 5 star hotels. SICKNESS: everyone we spoke to had at some stage in their holiday been sick, bad stomachs, gripping pains, diarrhoea. My husband ended up in hospital for a day in Punta Cana with an intestinal infection on an IV drip, now we have travelled across the tropics, all over Asia, have even eaten from a few side of the road stalls before and we have a good constitution, have never experienced upset stomachs like it but he was poorly and has come away from DOM REP with a number of tablets as a souvenir. BE careful make sure you get everything hot, make sure your eggs are well done and stay away from the buffet food.SERVICE: We don't mind tipping for good service, it is a third world country, the staff work extremely hard, but it is at a stage now that it is expected. All this advice on tipping the staff so they look after you better is really true, you should not be expected to tip for everything, you pay enough for the holiday and it should be at your discretion if you feel you want to tip an individual for good service. There are guests at the hotel that tip constantly, for every drink ordered, for daily chamber service, for room service for everything, this really has created expectations from the staff for tips for doing their jobs, like i say we tip for good service but shouldn't have to feel pressured to do so, and it certainly shouldn't affect the service provided if you don't. ENTERTAINMENT: There are no red coats like at Butlins but they are green t-shirts. entertainment is a joke, okay yes it's the Carribbean but why is this the excuse for everything, it's bad, you will want to spend time in your room, people in wigs, badly miming to music, you need to be drunk to even think its okay, we don't drink heavily that's may be the problem on this whole holiday if you are after sophistication, romance and mature evenings the excellence is not for you, if you like to get drunk all day and don't have high expectations of food and entertainment and like to see adults getting loud, obnoxious and rude, this is the place to go!!!\n",
      "++++++++++++++++++++++++++++++++++++++++++++++++++++++++++++++++++++++++++++++++++++++++++++++++++++++\n",
      "\n",
      "\n",
      "No Where Near Excellence This was a long awaited vacation with 2 other couples that we travel with every year, sometimes twice a year. Before booking the resort, I emailed the Excellence head office and asked about internet access, I am self-employed and all of my vacations are working vacations and I cannot book without the resort having internet. The head office emailed me back very quickly with a response explaining that the whole resort including all the rooms have wireless internet access..Bonus..I booked our trip that day!! We arrived at the resort very late on Saturday night, service was friendly but we were sent to find our own rooms, through some hallways that were very dark, one of the couples was in 11 block and 2 of us were in 14 block. We found our rooms with help from the pizza delivery guy. The room was very nice, not very cool, the air conditioning on the 3rd floor of the resorts doesn't seem to work very good! I setup my computer to make sure there was internet..no network to be found, I called to the front desk and explained, he said that he wasn't sure about the internet and that some of the rooms could not connect, I decided to go back to the front desk to request a room change and/or see what could be done, the person at the front desk did not speak the best english and he proceeded to try to find another room...this took about an hour of him playing on the computer...he said that he would have a bellhop take me to another room to see if the internet worked...it is not 12:30am and we finally found a room that is vacant and has internet, awesome...lets move the bags down! NO NO..I need to check with the front desk, the person at the front desk explaines that the room is VIP and it has a view....I explain that I do not care about a view...I just need the internet..the reception explains that I can have the room for an extra charge $, after arguing with the gentleman for 10 to 15 minutes and not getting a head, I asked for his manager...no managers on staff at night, it is now 1am and i am told that there will be a manager in the hotel at 8am, I agree to stay in my room until the morning.My husband and I are in the lobby for 8am...no manager no concierge, I am told they will be there for 9am, I return at 9am to speak with the concierge, I explained the situation and she asked that I give her an hour, at 10am I returned, she had sorted the problem out and was giving us the VIP room that we were in the night before, but we needed to wait until 12:30, she then put me intouch with a manager (Edward), he explained that he wanted to have the room clean and that he would have a bellhop at our current room for 12:30, I waited at the room and no bellhop, called to the front desk to request service and they asked me to wait until 1:30...I was extremely upset and angry, I said absolutely not, I need service not and asked that someone come immediately, the bellhop was sent. I finally got into my room and unpacked, the room was clean but things were missing, coffeemaker with no coffee pot, no hand soap, no face clothes and 1 hand towel, 1 robe, I called down to the front desk and asked for the items, I received the robe and hand towel...the next morning I called to ask again for the coffee pot and received room service instead, this is better then the coffee pot that is what I was told!! My husband and I were waiting in the main lobby for our friends where we were approached from a hotel employee who seem to be a manager, he ended up being the General Manager of the hotel, after explaining the problems, he asked that I come and see him if we had anymore...I told him about the coffee pot and there was 1 in my room within minutes.After meeting him, we had a few more discussions about his hotel..for 1 of the couples - no turn down service for 2 or 3 nights and no cleaning service at all for one day, and there AC did not work right for the whole week even after complaining a few times to concierge. For another couple - no face clothes and limited towels, there DVD player and jacuzzi tub did not work...they did fix the tub but it took a day or so! For my husband and I..the room was ok...not a 5 star hotel by any means, still never received hand soap, and our jacuzzi would not hold water. We also had a few creepy crawlers in our room!! Restaurants - the buffet is great for breakfast and lunch and the only place we enjoyed for dinner was the french restaurant. The grill was terrible, Bareclona was ok...the seafood was very fishy smelling and tasting. Toscana-food was good the service was aweful! The beef in most restaurants was not good, over cooked and very tuff!!Grounds - very very nice, the beach was good, but it was red flagged for the whole week. Bar Staff - EXCELLENT...Jenny who works in the theater section is awesome...very ver friendly!We requested 1 room for all of us on the last day because of the late check out, the manager said that he would speak to us on Friday (the day before leaving) to see if they had one available, he explained that there was a $20 per person per hour charge....I looked at him and said NO WAY...with all the problems you want to charge us more....forget it!!! he told me to come back and see him on Friday and he would see what he could do...we ended up getting one room for the 6 of us to stay in until we had to leave for the airport.In whole, the resort is nice but I do not believe it should be classified as a 5 star..maybe 3.5...they really need to work on the little things!!! I don't believe I will ever be back unless they make some serious chanages.\n",
      "++++++++++++++++++++++++++++++++++++++++++++++++++++++++++++++++++++++++++++++++++++++++++++++++++++++\n",
      "\n",
      "\n",
      "Ok... But not 'Excellente' My boyfriend and I just got back from spending a week at the Excellence. We booked through Thomas Cook.As you have probably read from the other reviews, the road to the hotel is bad. It's quite bumpy and the driving skills over there are appalling, but because we were in an air conditioned coach, it didn't really bother me that much.The arrival at the hotel was ok - i was expecting a bit more after the reviews some people had written on here - my boyfriend had a cold class of sparkling wine, but when I asked for a non-alcoholic drink because i'm 8 weeks pregnant I got the dirtiest look ever and didn't receive a drink!!The first room they put us in was very nice, but there was no handle on the toilet and literally no water in the cistern - this I did not expect from the resort! There was also extreme condensation on the windows and the room smelt of mould. We rang Hector on the front desk and he assured us that we would be moved to a different room within half an hour. We waited for about an hour beofre ringing again and finally got moved to another room in the same building. Even then, we had to call out the maintenance guy to fix our bath and tv... We had room service for our first dinner and I hardly even touched it - the burger was almost raw. Over the next few days the service we received from the hotel definitely improved although we encountered more problems because of Thomas Cook. The emergency number they had given to the hotel was incorrect and so we left a voicemail on a random number expecting them to get back to us within the hour as they had promised, ofcourse they never did. If you book through Thomas Cook or any other UK travel agent, I wouldn't recommend going on any of the excursions they offer - we went on three and thought they were all over-priced and not worth spending a day out of the well kept beach and resort.. We went on the Reef Explorer which was the best, Isla Catalina which was a complete waste of our time and the Bavaro Splash which we're waiting for a refund on from Thomas Cook. Unless you are a James Bond wannabe, I don't recommend this trip at all!!The Food:I expected better from the restaurants if I'm honest. I didn't think the food was up to the standard of the hotel, but everyone is different.Overall, I probably won't be recommending this resort or be returning to the Dominican Republic.\n",
      "++++++++++++++++++++++++++++++++++++++++++++++++++++++++++++++++++++++++++++++++++++++++++++++++++++++\n",
      "\n",
      "\n",
      "You get what you pay for... Let me start by saying that I have travelled extensively to nearly every Carribean Island. I have taken 7 cruises to the Carribean, as well as stayed at resorts in Aruba, a few islands in Hawaii and Mexico. I have travelled to underdevelopped areas in the Carribean, and was prepared to encounter some unpleasant roads along the way and also aware of the stomach issues that may accompany travelling in a foreign country. When I became interested in travelling to Punta Cana through a recommendation I did as much research as possible regarding the best resort for my stay. After reading all of the reviews on the website and others I thought the vacation was fool proof. Unfortunately, that was not the case. My experience might be an isolated incident but I must warn anyone thinking about going to lower their expectations, and take into account that these things might happen to you. First off, food poisioning. I made sure to not drink the water and only drank bottled water. I stayed away from any type of fish, and rarely drank alcohol. However, on my third day of vacation I ate at the lunch buffet. Out of all the vacations I have ever been on I have never found food to be of such low quality. Time after time I tried to eat the food, but found it was stale. They never changed over the food. They had a bin of french fries and nachos which were completely stale. Within a few hours I was vomitting. I should have used better judgement and not ate anything at all, but the choices for lunch are really limited. Beyond the buffet of stale food, there is only one other restaurant to eat at which is a sit down restaurant.Breakfast was the same story. On my first day I was impressed at the assortment of pastries, and got a whole plate full only to almost break my teeth on stale donuts that were hard as rocks. It was truly disgusting at points.In addition to the food being a MAJOR disapointment, there were quite a few other things that really detracted from this 5 star resort. Cleanliness...not up to par. The room had ants in some places. As I type this, I am scratching bug bites all over my arms and legs (I did wear OFF! spray daily) but apparently there is nothing that can stop them. A day after coming home, I realized that the bug bites have actually gotten worse.Also, the housekeeping staff did not measure up to a 5 star resort level. They never once in our week stay changed the small towels in the room. The bath tub had hair in the drain on the first day we checked in. Every day we would have to ask for beach towels because they were never put in our room. Upon check in, our fridge had the remains of the last guests drinks in it. That had me wondering, if they couldn't even take the time to clean the fridge what else they may have not cleaned or prepared for us. Room service...became yet another pain. On our second day we called for breakfast at 8:00 am. We were told it would take an hour. We called back an hour later to see where the food was, and were told it would take another half an hour. So, if you want breakfast room service, make sure to order it two hours in advance. Also, you really cannot arrive late for anything. On our last day we left our room at 10:55 AM because we were both not feeling well. We wanted to try to just grab a little bit of food for the ride to the airport or for the wait for our transfer. Upon walking into the buffett we saw tons of people sitting and still eating, and others at the buffett taking food. Within a moment a man from the resort came charging up to us insisting we leave because it was closed. We tried to explain that we weren't going to sit down and we just wanted to take a muffin or something to go. I understand that if a restaurant is closed that he has every right to ask us to leave, but the fact that others were clearly still getting food from the buffet showed the true level of service the people at the resort are willing to give. He told us to go to Lobster House...which was not a possibility since we were leaving within the hour.The staff were friendly, many of the bartenders or other staff were extremely nice people and I geniunely enjoyed meeting them. However, I would by no means describe the service they provide as above average. Many times we asked for certain tables in a restaurant (and witnessed the same thing with other people) and were told it was not a possibility. The tables with nice views of either the ocean, or a window seat would be entirely open and set up (in an almost empty restaurant), but some excuse would be given. In my opinion, if I go to a restaurant and would prefer a certain table for whatever reason, it shouldn't be a problem. I saw this happen many times to both myself and others, and it is mind boggling why the staff are so unaccomodating in making people happy in this respect. It almost seemed as if the staff were bothered by requests sometimes, and after a while we just gave up and settled for tables in corners while simply looking at clean, empty tables with gorgeous views in envy.The TV rarely ever had a signal. At night we would be in the middle of watching the news or some other show, and the TV would just stop working. We called once to report the problem, after the 2nd time we just gave up.Bottom line is that the resort is beautiful. It's a rough and rocky trek to get there, but once you do, the resort is beautiful enough to take your mind off of what you've went through to get there. However, the food and the service is not worth the money. There are plenty of other islands in the Carribean that have resorts with edible food, and 10 times better service.By the way, I have noted that any review on this website that isn't positive is usually noted as not helpful. Of course many people may have had a great time and not had the same horrible experience I had, but I think it's best potential travellers get the chance to see both ends of the spectrum of possibilities they risk travelling to Excellence. Many others have given positive reviews on this website and others, but a few others have really not had a positive experience at all. I think it is important to recognize that if something does not go smoothly at this resort they are NOT accomodating and are very uninterested in helping you out.\n",
      "++++++++++++++++++++++++++++++++++++++++++++++++++++++++++++++++++++++++++++++++++++++++++++++++++++++\n",
      "\n",
      "\n",
      "Dont beleive the good reviews, we were fooled too... Let me preface this review by apologizing for the length, but there are many things that needed to be mentioned... Being a young traveler (24 years old) it doesn't take much to impress me, and Excellence just did not live up to my expectations of a so called 5 Star resort.  We arrived late because of an 8 hour American Airlines delay and the Punta Cana airport was a circus of hundreds of people crammed to get to their bags. The transfer to the hotel during the night was very bad. The roads as is stated on this website numerous times are very bad.  When we finally arrived at around 10pm we were given a tour of the room. When the employee proceeded to show us the minibar, it still had drinks from the previous occupants. He yelled for another employee but quickly gave up and said we would get it changed in the morning. We went to the only late night place to get food, a pizza place called Oregano. The pizza was good but we did learn something very quickly; people were tipping the employees. We were told all tips were included, but we decided to tip to not appear to be cheap.  The next morning we went to the buffet breakfast at Tuscana, There were plenty of choices, not many of them all too good. The choices I made were stale or just didn't taste fresh. The fruit juice was good but always warm. After breakfast we headed to the beach, found a nice hut with a great view of a blue but very rough ocean. The resort was not full at all so a lot of spots were open. There were bartenders who worked hard to bring us drinks, but the beach was understaffed. We went to the bar to get just as many drinks as we were served. We met one very nice bartender Kenny and he was what the other employees should be like. Anyways, we were approached everyday by salesmen soliciting off-site excursions on the beach. They were rude and pushy and would not go away. They are apparently allowed to walk the beach because it is public but when I later saw him holding an Excellence Pizza box I grew suspicious. We tried to walk the beach a little, but in either direction are huts with vendors and when you walk past them on the beach they approach you (harassing) and tell you to come to their hut. That was the first and last time we walked the beach. We ate lunch at the Grill which was average. The burger didn't taste good the best thing I had was the french fries. We had dinner at Spice the next night which was good, we ended up eating there twice. The next morning we ate breakfast at the Grill which was better than the buffet at Toscana but still nothing impressive.  After spending the day at the beach we noticed that the room had been cleaned, but under further inspection the only thing that was done was the bed was made and the floors were mopped. We also noticed that none of the towels were changed. Back to the room and its problems later, but the maid service here gets a huge F. Everyday something was wrong. We tried the Grill for dinner that night. The steak was good but the mashed potatoes were cold. We didn't send it back but it ruined my dinner. The deserts every night were the same 3-4 cakes and if you were lucky melted ice cream (which tasted gross).  Every night after dinner we went to the lobby for the shows, which were better than expected. However the saxophone player before the shows plays the same 5 songs every single night (two of which are Pretty Woman and I want to hold Your Hand), it got so repetitive after awhile it became humorous.  The next morning we went to the Grill for what turned out to be an interesting breakfast. Some of the tables along the edge of the restaurant had a nice ocean view. We requested one of those tables, which happened to be dirty. The hostess seemed confused but she sat us at a different table while she cleaned the other. She wasn't overwhelmed because there were only 2 tables and 5 waiters plus her. Anyways, the table was cleared off, but we noticed she cleaned the wrong one, instead of cleaning the ocean view table, she clears off the table with a large wooden pole in front of it. I told her that was not the one we wanted and she very obviously rolled her eyes at me and said something in Spanish before cleaning the right table. Lunch at the buffet turned out to be even worse as both my girlfriend and myself got food poisoning and were up all night. The food for lunch at the buffet was old, stale and terrible.  The next morning we decided to eat in being we were both recovering from being ill. So we called into room service and ordered breakfast. An hour passed and I called to check the status. They told me it would be another 20-30 minutes! I told them to cancel the order. Another day I tried to order room service for lunch at 11:15. The woman on the phone told me I couldnt order lunch before 11:30. I asked her if she could at least write the order down and have it sent once lunch was served. She seemed confused and I didnt push for it. In my 7 day stay we didn't once actually get room service. Unbelievable.  We headed to the beach and ate at the BBQ they had on the beach which we discovered late into the trip. Because the resort is large, I would estimate the 90% who did not sit in the area of the BBQ wouldn't eat there.  Now onto the problems with the room... our toilet had a hard time flushing, sometimes appeared to be on the verge to overflow, the handles on the hot tub came off and didn't work. You needed to use your hand to turn the metal faucet. The screen on the patio door was also bent. The satellite TV went out several times per day, a problem not only experienced by us because I heard people speaking about it. We also both got what appears to be bedbugs probably because they never changed the linens! We continued to attempt to have fun and signed up for the snorkeling trip to Catalina Island. We signed up for it at the Excellence but it was not exactly run by them. The two guides, Miguel and Franklin were extremely friendly and funny. Once we got to the boat we were surprised to see the condition of the docks and the boat. The crew consisted of people who just sat there and did nothing but take our expensive excursion for free. The double decker boat hit very bad waves on the way back, and as an experienced fisherman I can tell you that the captain didn't know what he was doing. Our final day at Excellence was a summation of the entire vacation. After another hard night because of the food, we took a little more time to pack then expected. We needed to meet in the lobby for our transfer to the airport at 11:30am. We got to the lobby at 11:15am, just in time for a few minutes to grab a quick bite at the breakfast buffet. We were shocked when after we sat ourselves a waiter came to us and told us that breakfast was over. While he was saying this I am watching the other guests at the buffet getting their second and third helpings of food. I told him we couldnt go to the sit down breakfast because our taxi was coming in only a few minutes. Instead of the waiter just offering us to quickly get what we can get our hands on he just stood and looked confused. Finally fed up, I just walked by him and took a few pastries and left. I went to checkout and instead of a thanks for coming or did you enjoy your stay? all we got back was a piece of paper to give to the bell hop. This was a complete reversal from the champagne and hot towels we got at arrival. I can honestly say that we desperately tried to have an enjoyable vacation and not notice all of the terrible problems we had. The very little we enjoyed, like the wildlife reserve and nice buildings decorated with marble and statues is not enough to give my recommendation. It wasn't just one incident that formed this opinion, it was the combination of everything. If you do decide to go to the Excellence of Punta Cana do so with the knowledge that their is a possibility that you just like us can experience what we have, they are capable of doing so. I have never been so happy to be home.\n",
      "++++++++++++++++++++++++++++++++++++++++++++++++++++++++++++++++++++++++++++++++++++++++++++++++++++++\n",
      "\n",
      "\n",
      "Nice vacation, but traveler beware! My wife and I just returned from our trip to Punta Cana where we stayed at the Excellence Resort. This is a couples resort so no children. Many honeymooners. Upon arrival on the island, a bus will take you to the resort. Be prepared for an hour+ ride as this resort is the further distance from the airport. The roads near the airport are fine, but they get narrow and bumpy as you get closer to the resort. When you check-in at the resort, they may offer you a room upgrade to their 'Excellence Club'. They promised services that they failed to deliver on such as daily fresh towels for poolside, daily newspaper, and some other services. We did receive massages as part of the upgrade and these were very good, but again briefly hassled at the spa. The spa is nice although the jets were not working in the spa tub. Overall I think this upgrade was a ripoff for what one pays for it. I suggest you think twice if they offer it to you. We experienced that the electricity in the room would go off daily for no apparent reason usually in the late afternoon lasting a few minutes to up to 20 minutes. The room AC stopped working and we were without it for one day. Trying to get it fixed was a hassle. We tried room service on our first morning where we called up and order coffee, assortment of fruits, and pastries. They said it would take 55 minutes to arrive. We waited and waited. Three calls and close to two hours later, it was finally delivered. They call that 'Carribean time'. This is totally unacceptable for what was ordered. After that we gave up on using room service again. There are 8 restuarants. The food is plentiful and decent. However, you will find the meats are heavily salted as I believe they use alot of salt as a means of preserving the meat in the warm climate in the absence of decent refrigeration. Along this line, my wife got severe food poisoning on the trip. We discovered that she was NOT alone. About 30% of percent of the folks we spoke with said that they also experienced some sort of food related illness. This is way too high! I suggest you bring stomach meds just a precaution. The booze at the bars is fine although I found all mixed tropical drinks are very, very sweet. Most are premixed and not blended at the time of order. Many times communications is very difficult especially if you don't speak spanish. Take this into serious consideration and be prepared for this. The evening entertainment is decent if you like to watch mainly dancing and lip sync. We most enjoyed the jazz-saxophone music played most nights on the plaza and at the Martini Bar.The main pool is expansive. It is nice, clean, and warm. Be aware that it is only 3-4 feet deep. Great for cooling off and floating in. They have no deep typical swimming pool. The beach is nice with plenty of loungers and huts for shade. However, if you like to swim or wade in the ocean forget it as the ocean is too rough. On all days there were warning flags telling people to stay out of the water other than in one small section.There are scheduled program activities daily and you can take excursion trips. We took one excursion out to an island that was decent. The island is poor and there is really no place to wander or go on your own. In summary, we had a nice RR type of vacation. We made the best of their service and resort activities. However, given the very hit and miss service, difficulty with communication, and the clencher being that my wife got severe food poisoning (like no other time on any other carribean trip), this is not a resort or island destination that we'd consider returning to.\n",
      "++++++++++++++++++++++++++++++++++++++++++++++++++++++++++++++++++++++++++++++++++++++++++++++++++++++\n",
      "\n",
      "\n"
     ]
    }
   ],
   "source": [
    "getRelatedText(\"Room service\")\n"
   ]
  },
  {
   "cell_type": "code",
   "execution_count": null,
   "metadata": {
    "collapsed": true
   },
   "outputs": [],
   "source": []
  },
  {
   "cell_type": "code",
   "execution_count": null,
   "metadata": {
    "collapsed": true
   },
   "outputs": [],
   "source": []
  }
 ],
 "metadata": {
  "kernelspec": {
   "display_name": "Python 2",
   "language": "python",
   "name": "python2"
  },
  "language_info": {
   "codemirror_mode": {
    "name": "ipython",
    "version": 2
   },
   "file_extension": ".py",
   "mimetype": "text/x-python",
   "name": "python",
   "nbconvert_exporter": "python",
   "pygments_lexer": "ipython2",
   "version": "2.7.12"
  }
 },
 "nbformat": 4,
 "nbformat_minor": 0
}
