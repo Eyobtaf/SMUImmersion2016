{
 "cells": [
  {
   "cell_type": "code",
   "execution_count": 1,
   "metadata": {
    "collapsed": true
   },
   "outputs": [],
   "source": [
    "import pandas as pd\n",
    "\n",
    "from sklearn.cross_validation import train_test_split\n",
    "from sklearn import preprocessing\n",
    "from sklearn import linear_model, datasets\n",
    "import sklearn.metrics as mt\n",
    "\n"
   ]
  },
  {
   "cell_type": "markdown",
   "metadata": {},
   "source": [
    "### Load Data File"
   ]
  },
  {
   "cell_type": "code",
   "execution_count": 20,
   "metadata": {
    "collapsed": false
   },
   "outputs": [],
   "source": [
    "df = pd.read_csv(\"/Users/raghuramsrinivas/anaconda/bin/Immersion/Enhanced_10000Rows-ALL.csv\")"
   ]
  },
  {
   "cell_type": "code",
   "execution_count": 21,
   "metadata": {
    "collapsed": false
   },
   "outputs": [],
   "source": [
    "if \"Unnamed: 0\"  in df.columns:\n",
    "    del df[\"Unnamed: 0\"]\n",
    "    \n",
    "if \"Unnamed: 0.1\"  in df.columns:\n",
    "    del df[\"Unnamed: 0.1\"]\n",
    "    \n",
    "if \"Author\"  in df.columns:\n",
    "    del df[\"Author\"]\n",
    "\n",
    "#if \"BusinessService\"  in df.columns:\n",
    "#    del df[\"BusinessService\"]\n",
    "\n",
    "if \"File\"  in df.columns:\n",
    "    del df[\"File\"]\n",
    "\n",
    "if \"Content\"  in df.columns:\n",
    "    del df[\"Content\"]"
   ]
  },
  {
   "cell_type": "code",
   "execution_count": 22,
   "metadata": {
    "collapsed": false
   },
   "outputs": [
    {
     "data": {
      "text/html": [
       "<div>\n",
       "<table border=\"1\" class=\"dataframe\">\n",
       "  <thead>\n",
       "    <tr style=\"text-align: right;\">\n",
       "      <th></th>\n",
       "      <th>Cleanliness</th>\n",
       "      <th>Rooms</th>\n",
       "      <th>Service</th>\n",
       "      <th>Location</th>\n",
       "      <th>CheckIn</th>\n",
       "      <th>Value</th>\n",
       "      <th>Overall</th>\n",
       "      <th>BusinessService</th>\n",
       "    </tr>\n",
       "  </thead>\n",
       "  <tbody>\n",
       "    <tr>\n",
       "      <th>0</th>\n",
       "      <td>3</td>\n",
       "      <td>3</td>\n",
       "      <td>-1</td>\n",
       "      <td>4</td>\n",
       "      <td>3</td>\n",
       "      <td>3</td>\n",
       "      <td>3</td>\n",
       "      <td>-1</td>\n",
       "    </tr>\n",
       "    <tr>\n",
       "      <th>1</th>\n",
       "      <td>5</td>\n",
       "      <td>2</td>\n",
       "      <td>2</td>\n",
       "      <td>5</td>\n",
       "      <td>3</td>\n",
       "      <td>2</td>\n",
       "      <td>2</td>\n",
       "      <td>3</td>\n",
       "    </tr>\n",
       "    <tr>\n",
       "      <th>2</th>\n",
       "      <td>5</td>\n",
       "      <td>4</td>\n",
       "      <td>4</td>\n",
       "      <td>5</td>\n",
       "      <td>4</td>\n",
       "      <td>4</td>\n",
       "      <td>5</td>\n",
       "      <td>4</td>\n",
       "    </tr>\n",
       "  </tbody>\n",
       "</table>\n",
       "</div>"
      ],
      "text/plain": [
       "   Cleanliness  Rooms  Service  Location  CheckIn  Value  Overall  \\\n",
       "0            3      3       -1         4        3      3        3   \n",
       "1            5      2        2         5        3      2        2   \n",
       "2            5      4        4         5        4      4        5   \n",
       "\n",
       "   BusinessService  \n",
       "0               -1  \n",
       "1                3  \n",
       "2                4  "
      ]
     },
     "execution_count": 22,
     "metadata": {},
     "output_type": "execute_result"
    }
   ],
   "source": [
    "X=df[[\"Cleanliness\",\"Rooms\",\"Service\",\"Location\",\"CheckIn\",\"Value\",\"Overall\",\"BusinessService\"]]\n",
    "X.head(3)"
   ]
  },
  {
   "cell_type": "markdown",
   "metadata": {},
   "source": [
    "### Evaluate predictors for Overall hotel satisfaction rating using the composite recorded scores"
   ]
  },
  {
   "cell_type": "code",
   "execution_count": 6,
   "metadata": {
    "collapsed": false
   },
   "outputs": [
    {
     "name": "stderr",
     "output_type": "stream",
     "text": [
      "/Library/Python/2.7/site-packages/ipython-5.0.0b4-py2.7.egg/IPython/html.py:14: ShimWarning: The `IPython.html` package has been deprecated. You should import from `notebook` instead. `IPython.html.widgets` has moved to `ipywidgets`.\n",
      "  \"`IPython.html.widgets` has moved to `ipywidgets`.\", ShimWarning)\n"
     ]
    }
   ],
   "source": [
    "%matplotlib inline\n",
    "from string import letters\n",
    "import numpy as np\n",
    "import pandas as pd\n",
    "import seaborn as sns\n",
    "import matplotlib.pyplot as plt"
   ]
  },
  {
   "cell_type": "code",
   "execution_count": 7,
   "metadata": {
    "collapsed": false
   },
   "outputs": [
    {
     "data": {
      "text/plain": [
       "<matplotlib.axes._subplots.AxesSubplot at 0x107019990>"
      ]
     },
     "execution_count": 7,
     "metadata": {},
     "output_type": "execute_result"
    },
    {
     "data": {
      "image/png": "[encoded data removed]",
      "text/plain": [
       "<matplotlib.figure.Figure at 0x1062858d0>"
      ]
     },
     "metadata": {},
     "output_type": "display_data"
    }
   ],
   "source": [
    "corr = X.corr()\n",
    "\n",
    "# Generate a mask for the upper triangle\n",
    "mask = np.zeros_like(corr, dtype=np.bool)\n",
    "mask[np.triu_indices_from(mask)] = True\n",
    "\n",
    "# Set up the matplotlib figure\n",
    "f, ax = plt.subplots(figsize=(11, 9))\n",
    "\n",
    "# Generate a custom diverging colormap\n",
    "cmap = sns.diverging_palette(220, 10, as_cmap=True)\n",
    "\n",
    "# Draw the heatmap with the mask and correct aspect ratio\n",
    "#sns.heatmap(corr, annot=True,mask=mask, cmap=cmap, vmax=.99,square=True, xticklabels=5, yticklabels=5,linewidths=.5, cbar_kws={\"shrink\": .5}, ax=ax)\n",
    "\n",
    "sns.heatmap(corr,annot=False, linewidths=.5,mask=mask)"
   ]
  },
  {
   "cell_type": "code",
   "execution_count": 8,
   "metadata": {
    "collapsed": false
   },
   "outputs": [
    {
     "name": "stderr",
     "output_type": "stream",
     "text": [
      "/usr/local/lib/python2.7/site-packages/scipy/linalg/basic.py:884: RuntimeWarning: internal gelsd driver lwork query error, required iwork dimension not returned. This is likely the result of LAPACK bug 0038, fixed in LAPACK 3.2.2 (released July 21, 2010). Falling back to 'gelss' driver.\n",
      "  warnings.warn(mesg, RuntimeWarning)\n"
     ]
    },
    {
     "data": {
      "text/plain": [
       "0.23070058550720129"
      ]
     },
     "execution_count": 8,
     "metadata": {},
     "output_type": "execute_result"
    }
   ],
   "source": [
    "if \"Overall\" in X.columns:\n",
    "    Y = X[\"Overall\"]\n",
    "    del X[\"Overall\"]\n",
    "    #X = df\n",
    "    #X= df[[\"Cleanliness\",\"Rooms\",\"Service\",\"Location\",\"CheckIn\",\"Value\"]]\n",
    "\n",
    "\n",
    "XScaled = preprocessing.StandardScaler().fit_transform(X)\n",
    "\n",
    "XTrain,XTest,YTrain,YTest = train_test_split(XScaled,Y)\n",
    "\n",
    "#lm = linear_model.LinearRegression()\n",
    "lm = linear_model.LinearRegression()\n",
    "ml = lm.fit(XTrain,YTrain)\n",
    "YPred = ml.predict(XTest)\n",
    "ml.score(XTest,YTest)\n"
   ]
  },
  {
   "cell_type": "code",
   "execution_count": 9,
   "metadata": {
    "collapsed": false
   },
   "outputs": [
    {
     "data": {
      "image/png": "[encoded data removed]",
      "text/plain": [
       "<matplotlib.figure.Figure at 0x107209e90>"
      ]
     },
     "metadata": {},
     "output_type": "display_data"
    }
   ],
   "source": [
    "# now let's make a pandas Series with the names and values, and plot them\n",
    "from matplotlib import pyplot as plt\n",
    "%matplotlib inline\n",
    "plt.style.use('ggplot')\n",
    "\n",
    "\n",
    "weights = pd.Series(ml.coef_,index=X.columns)\n",
    "weights.plot(kind='bar')\n",
    "plt.show()"
   ]
  },
  {
   "cell_type": "markdown",
   "metadata": {},
   "source": [
    "### Evaluate scores using the features generated by Watson tone_analyzer()"
   ]
  },
  {
   "cell_type": "code",
   "execution_count": 10,
   "metadata": {
    "collapsed": true
   },
   "outputs": [],
   "source": [
    "import json\n",
    "from watson_developer_cloud import ToneAnalyzerV3\n",
    "\n",
    "tone_analyzer = ToneAnalyzerV3(username='23c3a099-7a3f-4ad8-8309-9ad8616d2f96',password='VOIxUdbLEYIW',version='2016-02-11')"
   ]
  },
  {
   "cell_type": "code",
   "execution_count": 11,
   "metadata": {
    "collapsed": true
   },
   "outputs": [],
   "source": [
    "def performToneAnalysis(strText):\n",
    "    dict={}\n",
    "    jsonObj = tone_analyzer.tone(text=strText)\n",
    "\n",
    "    catArr  = jsonObj[\"document_tone\"][\"tone_categories\"]\n",
    "    \n",
    "    tonesObj= catArr[0][\"tones\"]\n",
    "    dict[\"Anger\"] = tonesObj[0][\"score\"]\n",
    "    dict[\"Disgust\"] = tonesObj[1][\"score\"]\n",
    "    dict[\"Fear\"] = tonesObj[2][\"score\"]\n",
    "    dict[\"Joy\"] = tonesObj[3][\"score\"]\n",
    "    dict[\"Sadness\"] = tonesObj[4][\"score\"]\n",
    " \n",
    "    tonesObj= catArr[1][\"tones\"]\n",
    "    dict[\"analytical\"] = tonesObj[0][\"score\"]\n",
    "    dict[\"confident\"] = tonesObj[1][\"score\"]\n",
    "    dict[\"tentative\"] = tonesObj[2][\"score\"]\n",
    "  \n",
    " \n",
    "    tonesObj= catArr[2][\"tones\"]\n",
    "    dict[\"Openness\"] = tonesObj[0][\"score\"]\n",
    "    dict[\"Conscientiousness\"] = tonesObj[1][\"score\"]\n",
    "    dict[\"Extraversion\"] = tonesObj[2][\"score\"]\n",
    "    dict[\"Agreeableness\"] = tonesObj[3][\"score\"]\n",
    "    dict[\"EmotionalRange\"] = tonesObj[4][\"score\"]\n",
    " \n",
    "    \n",
    "    return dict"
   ]
  },
  {
   "cell_type": "code",
   "execution_count": 12,
   "metadata": {
    "collapsed": false
   },
   "outputs": [
    {
     "name": "stdout",
     "output_type": "stream",
     "text": [
      "What a miserable excuse for a hotel! I cannot believe that I actually spent hard earned money to spend a miserable, hot (no air conditioning), noisy (traffic noise kept me up for hours even though I was dead tired) night in a closet (the bed barely fit) of a room. The elevator barely worked (and it doesn't even go to the lobby -- you have to walk up a flight of stairs to get to the elevator!!!), the hallways were hot and smelly, the furniture was archaic, and the bathroom was probably nice enough in 1950, but in 2004 it's a snake pit. Stay away. Stay far, far away. You are welcome to contact me if I haven't made myself perfectly clear! The name's Barry and the e-mail address is blb417@hotmail.com if you want more info.\n"
     ]
    }
   ],
   "source": [
    "#Sample Text\n",
    "strText = \"What a miserable excuse for a hotel! I cannot believe that I actually spent hard earned money to spend a miserable, hot (no air conditioning), noisy (traffic noise kept me up for hours even though I was dead tired) night in a closet (the bed barely fit) of a room. The elevator barely worked (and it doesn't even go to the lobby -- you have to walk up a flight of stairs to get to the elevator!!!), the hallways were hot and smelly, the furniture was archaic, and the bathroom was probably nice enough in 1950, but in 2004 it's a snake pit. Stay away. Stay far, far away. You are welcome to contact me if I haven't made myself perfectly clear! The name's Barry and the e-mail address is blb417@hotmail.com if you want more info.\"\n",
    "\n",
    "print(strText)"
   ]
  },
  {
   "cell_type": "code",
   "execution_count": 13,
   "metadata": {
    "collapsed": false
   },
   "outputs": [
    {
     "data": {
      "text/plain": [
       "{'Agreeableness': 0.435,\n",
       " 'Anger': 0.912251,\n",
       " 'Conscientiousness': 0.212,\n",
       " 'Disgust': 0.466404,\n",
       " 'EmotionalRange': 0.841,\n",
       " 'Extraversion': 0.525,\n",
       " 'Fear': 0.091093,\n",
       " 'Joy': 0.022115,\n",
       " 'Openness': 0.336,\n",
       " 'Sadness': 0.083517,\n",
       " 'analytical': 0.438,\n",
       " 'confident': 0.3,\n",
       " 'tentative': 0.0}"
      ]
     },
     "execution_count": 13,
     "metadata": {},
     "output_type": "execute_result"
    }
   ],
   "source": [
    "performToneAnalysis(strText)"
   ]
  },
  {
   "cell_type": "markdown",
   "metadata": {},
   "source": [
    "### Review features extracted by tone_analyzer()"
   ]
  },
  {
   "cell_type": "code",
   "execution_count": 15,
   "metadata": {
    "collapsed": false
   },
   "outputs": [
    {
     "data": {
      "text/html": [
       "<div>\n",
       "<table border=\"1\" class=\"dataframe\">\n",
       "  <thead>\n",
       "    <tr style=\"text-align: right;\">\n",
       "      <th></th>\n",
       "      <th>Agreeableness</th>\n",
       "      <th>Anger</th>\n",
       "      <th>BusinessService</th>\n",
       "      <th>CheckIn</th>\n",
       "      <th>Cleanliness</th>\n",
       "      <th>Conscientiousness</th>\n",
       "      <th>Disgust</th>\n",
       "      <th>EmotionalRange</th>\n",
       "      <th>Extraversion</th>\n",
       "      <th>Fear</th>\n",
       "      <th>...</th>\n",
       "      <th>Location</th>\n",
       "      <th>Openness</th>\n",
       "      <th>Overall</th>\n",
       "      <th>Rooms</th>\n",
       "      <th>Sadness</th>\n",
       "      <th>Service</th>\n",
       "      <th>Value</th>\n",
       "      <th>analytical</th>\n",
       "      <th>confident</th>\n",
       "      <th>tentative</th>\n",
       "    </tr>\n",
       "  </thead>\n",
       "  <tbody>\n",
       "    <tr>\n",
       "      <th>0</th>\n",
       "      <td>0.899</td>\n",
       "      <td>0.229006</td>\n",
       "      <td>-1</td>\n",
       "      <td>3</td>\n",
       "      <td>3</td>\n",
       "      <td>0.164</td>\n",
       "      <td>0.120950</td>\n",
       "      <td>0.747</td>\n",
       "      <td>0.540</td>\n",
       "      <td>0.092245</td>\n",
       "      <td>...</td>\n",
       "      <td>4</td>\n",
       "      <td>0.241</td>\n",
       "      <td>3</td>\n",
       "      <td>3</td>\n",
       "      <td>0.119248</td>\n",
       "      <td>-1</td>\n",
       "      <td>3</td>\n",
       "      <td>0.270</td>\n",
       "      <td>0.922</td>\n",
       "      <td>0.000</td>\n",
       "    </tr>\n",
       "    <tr>\n",
       "      <th>1</th>\n",
       "      <td>0.918</td>\n",
       "      <td>0.396086</td>\n",
       "      <td>3</td>\n",
       "      <td>3</td>\n",
       "      <td>5</td>\n",
       "      <td>0.093</td>\n",
       "      <td>0.235150</td>\n",
       "      <td>0.805</td>\n",
       "      <td>0.778</td>\n",
       "      <td>0.229930</td>\n",
       "      <td>...</td>\n",
       "      <td>5</td>\n",
       "      <td>0.133</td>\n",
       "      <td>2</td>\n",
       "      <td>2</td>\n",
       "      <td>0.239326</td>\n",
       "      <td>2</td>\n",
       "      <td>2</td>\n",
       "      <td>0.733</td>\n",
       "      <td>0.000</td>\n",
       "      <td>0.534</td>\n",
       "    </tr>\n",
       "    <tr>\n",
       "      <th>2</th>\n",
       "      <td>0.960</td>\n",
       "      <td>0.460508</td>\n",
       "      <td>4</td>\n",
       "      <td>4</td>\n",
       "      <td>5</td>\n",
       "      <td>0.813</td>\n",
       "      <td>0.037194</td>\n",
       "      <td>0.521</td>\n",
       "      <td>0.855</td>\n",
       "      <td>0.064094</td>\n",
       "      <td>...</td>\n",
       "      <td>5</td>\n",
       "      <td>0.145</td>\n",
       "      <td>5</td>\n",
       "      <td>4</td>\n",
       "      <td>0.021335</td>\n",
       "      <td>4</td>\n",
       "      <td>4</td>\n",
       "      <td>0.384</td>\n",
       "      <td>0.656</td>\n",
       "      <td>0.000</td>\n",
       "    </tr>\n",
       "    <tr>\n",
       "      <th>3</th>\n",
       "      <td>0.536</td>\n",
       "      <td>0.473059</td>\n",
       "      <td>-1</td>\n",
       "      <td>3</td>\n",
       "      <td>3</td>\n",
       "      <td>0.813</td>\n",
       "      <td>0.156185</td>\n",
       "      <td>0.255</td>\n",
       "      <td>0.329</td>\n",
       "      <td>0.257246</td>\n",
       "      <td>...</td>\n",
       "      <td>3</td>\n",
       "      <td>0.719</td>\n",
       "      <td>3</td>\n",
       "      <td>3</td>\n",
       "      <td>0.096640</td>\n",
       "      <td>3</td>\n",
       "      <td>3</td>\n",
       "      <td>0.270</td>\n",
       "      <td>0.922</td>\n",
       "      <td>0.000</td>\n",
       "    </tr>\n",
       "    <tr>\n",
       "      <th>4</th>\n",
       "      <td>0.849</td>\n",
       "      <td>0.610163</td>\n",
       "      <td>-1</td>\n",
       "      <td>3</td>\n",
       "      <td>5</td>\n",
       "      <td>0.586</td>\n",
       "      <td>0.037826</td>\n",
       "      <td>0.299</td>\n",
       "      <td>0.720</td>\n",
       "      <td>0.027203</td>\n",
       "      <td>...</td>\n",
       "      <td>5</td>\n",
       "      <td>0.449</td>\n",
       "      <td>4</td>\n",
       "      <td>4</td>\n",
       "      <td>0.025254</td>\n",
       "      <td>5</td>\n",
       "      <td>5</td>\n",
       "      <td>0.082</td>\n",
       "      <td>0.290</td>\n",
       "      <td>0.000</td>\n",
       "    </tr>\n",
       "  </tbody>\n",
       "</table>\n",
       "<p>5 rows × 21 columns</p>\n",
       "</div>"
      ],
      "text/plain": [
       "   Agreeableness     Anger  BusinessService  CheckIn  Cleanliness  \\\n",
       "0          0.899  0.229006               -1        3            3   \n",
       "1          0.918  0.396086                3        3            5   \n",
       "2          0.960  0.460508                4        4            5   \n",
       "3          0.536  0.473059               -1        3            3   \n",
       "4          0.849  0.610163               -1        3            5   \n",
       "\n",
       "   Conscientiousness   Disgust  EmotionalRange  Extraversion      Fear  \\\n",
       "0              0.164  0.120950           0.747         0.540  0.092245   \n",
       "1              0.093  0.235150           0.805         0.778  0.229930   \n",
       "2              0.813  0.037194           0.521         0.855  0.064094   \n",
       "3              0.813  0.156185           0.255         0.329  0.257246   \n",
       "4              0.586  0.037826           0.299         0.720  0.027203   \n",
       "\n",
       "     ...      Location  Openness  Overall  Rooms   Sadness  Service  Value  \\\n",
       "0    ...             4     0.241        3      3  0.119248       -1      3   \n",
       "1    ...             5     0.133        2      2  0.239326        2      2   \n",
       "2    ...             5     0.145        5      4  0.021335        4      4   \n",
       "3    ...             3     0.719        3      3  0.096640        3      3   \n",
       "4    ...             5     0.449        4      4  0.025254        5      5   \n",
       "\n",
       "   analytical  confident  tentative  \n",
       "0       0.270      0.922      0.000  \n",
       "1       0.733      0.000      0.534  \n",
       "2       0.384      0.656      0.000  \n",
       "3       0.270      0.922      0.000  \n",
       "4       0.082      0.290      0.000  \n",
       "\n",
       "[5 rows x 21 columns]"
      ]
     },
     "execution_count": 15,
     "metadata": {},
     "output_type": "execute_result"
    }
   ],
   "source": [
    "df.head()"
   ]
  },
  {
   "cell_type": "markdown",
   "metadata": {},
   "source": [
    "### Evaluate predictors for Overall hotel satisfaction rating using the new qualitative feature"
   ]
  },
  {
   "cell_type": "code",
   "execution_count": 16,
   "metadata": {
    "collapsed": false
   },
   "outputs": [
    {
     "data": {
      "text/plain": [
       "<matplotlib.axes._subplots.AxesSubplot at 0x109233d10>"
      ]
     },
     "execution_count": 16,
     "metadata": {},
     "output_type": "execute_result"
    },
    {
     "data": {
      "image/png": "[encoded data removed]",
      "text/plain": [
       "<matplotlib.figure.Figure at 0x1091febd0>"
      ]
     },
     "metadata": {},
     "output_type": "display_data"
    }
   ],
   "source": [
    "corr = df.corr()\n",
    "\n",
    "# Generate a mask for the upper triangle\n",
    "mask = np.zeros_like(corr, dtype=np.bool)\n",
    "mask[np.triu_indices_from(mask)] = True\n",
    "\n",
    "# Set up the matplotlib figure\n",
    "f, ax = plt.subplots(figsize=(11, 9))\n",
    "\n",
    "# Generate a custom diverging colormap\n",
    "cmap = sns.diverging_palette(220, 10, as_cmap=True)\n",
    "\n",
    "# Draw the heatmap with the mask and correct aspect ratio\n",
    "#sns.heatmap(corr, annot=True,mask=mask, cmap=cmap, vmax=.99,square=True, xticklabels=5, yticklabels=5,linewidths=.5, cbar_kws={\"shrink\": .5}, ax=ax)\n",
    "\n",
    "sns.heatmap(corr,annot=False, linewidths=.5,mask=mask)"
   ]
  },
  {
   "cell_type": "code",
   "execution_count": 17,
   "metadata": {
    "collapsed": false
   },
   "outputs": [
    {
     "data": {
      "text/plain": [
       "0.54239466894762867"
      ]
     },
     "execution_count": 17,
     "metadata": {},
     "output_type": "execute_result"
    }
   ],
   "source": [
    "if \"Overall\" in df.columns:\n",
    "    Y=df[\"Overall\"]\n",
    "    del df[\"Overall\"]\n",
    " \n",
    "\n",
    "XScaled = preprocessing.StandardScaler().fit_transform(df)\n",
    "\n",
    "XTrain,XTest,YTrain,YTest = train_test_split(XScaled,Y)\n",
    "\n",
    "#lm = linear_model.LinearRegression()\n",
    "lm = linear_model.LinearRegression()\n",
    "ml = lm.fit(XTrain,YTrain)\n",
    "YPred = ml.predict(XTest)\n",
    "ml.score(XTest,YTest)\n"
   ]
  },
  {
   "cell_type": "code",
   "execution_count": 18,
   "metadata": {
    "collapsed": false
   },
   "outputs": [
    {
     "data": {
      "image/png": "[encoded data removed]",
      "text/plain": [
       "<matplotlib.figure.Figure at 0x109392510>"
      ]
     },
     "metadata": {},
     "output_type": "display_data"
    }
   ],
   "source": [
    "# now let's make a pandas Series with the names and values, and plot them\n",
    "from matplotlib import pyplot as plt\n",
    "%matplotlib inline\n",
    "plt.style.use('ggplot')\n",
    "\n",
    "\n",
    "weights = pd.Series(ml.coef_,index=df.columns)\n",
    "weights.plot(kind='bar')\n",
    "plt.show()"
   ]
  },
  {
   "cell_type": "code",
   "execution_count": null,
   "metadata": {
    "collapsed": true
   },
   "outputs": [],
   "source": []
  }
 ],
 "metadata": {
  "kernelspec": {
   "display_name": "Python 2",
   "language": "python",
   "name": "python2"
  },
  "language_info": {
   "codemirror_mode": {
    "name": "ipython",
    "version": 2
   },
   "file_extension": ".py",
   "mimetype": "text/x-python",
   "name": "python",
   "nbconvert_exporter": "python",
   "pygments_lexer": "ipython2",
   "version": "2.7.12"
  }
 },
 "nbformat": 4,
 "nbformat_minor": 0
}
